{
 "cells": [
  {
   "cell_type": "code",
   "execution_count": 13,
   "metadata": {},
   "outputs": [
    {
     "data": {
      "text/plain": [
       "[10, 11, 12, 13, 14, 15, 16, 17, 18, 19, 20]"
      ]
     },
     "metadata": {},
     "output_type": "display_data"
    },
    {
     "data": {
      "text/plain": [
       "14"
      ]
     },
     "execution_count": 13,
     "metadata": {},
     "output_type": "execute_result"
    }
   ],
   "source": [
    "numbers=[1,2,3,4,5] #使用符號建立\n",
    "mixed_list=[1,'Hello',3.14,True] #元素值可以不同類型\n",
    "empty_list=[]\n",
    "list_from_range=list(range(5))\n",
    "list_from_range=list(range(10,21))\n",
    "list_from_range # \"=\"運算子不會傳出任何東西，所以要呼叫\n",
    "display(list_from_range) # 同上呼叫方式，僅ipynb有\n",
    "\n",
    "#list的操作 \n",
    "list_from_range[4] #[]->subscript"
   ]
  },
  {
   "cell_type": "code",
   "execution_count": 6,
   "metadata": {},
   "outputs": [
    {
     "data": {
      "text/plain": [
       "[1, 3, 5, 7, 9]"
      ]
     },
     "execution_count": 6,
     "metadata": {},
     "output_type": "execute_result"
    }
   ],
   "source": [
    "# range(start,stop,/,step=1) -> \"/\"後面必須用\"引數值呼叫\"\n",
    "range(5)\n",
    "range(1,5)\n",
    "range(1,10,2)\n",
    "list(range(1,10,2))"
   ]
  }
 ],
 "metadata": {
  "kernelspec": {
   "display_name": "base",
   "language": "python",
   "name": "python3"
  },
  "language_info": {
   "codemirror_mode": {
    "name": "ipython",
    "version": 3
   },
   "file_extension": ".py",
   "mimetype": "text/x-python",
   "name": "python",
   "nbconvert_exporter": "python",
   "pygments_lexer": "ipython3",
   "version": "3.12.3"
  }
 },
 "nbformat": 4,
 "nbformat_minor": 2
}
