{
 "cells": [
  {
   "cell_type": "code",
   "execution_count": 2,
   "metadata": {},
   "outputs": [
    {
     "name": "stdout",
     "output_type": "stream",
     "text": [
      "YouBike即時資訊下載完成！\n"
     ]
    }
   ],
   "source": [
    "import requests\n",
    "\n",
    "url = 'https://tcgbusfs.blob.core.windows.net/dotapp/youbike/v2/youbike_immediate.json'\n",
    "\n",
    "try:\n",
    "    response = requests.get(url)\n",
    "    response.raise_for_status()  # 檢查HTTP狀態碼，確保請求成功\n",
    "\n",
    "    data = response.json()  # 將JSON格式的資料轉換為Python字典\n",
    "\n",
    "    print('YouBike即時資訊下載完成！')\n",
    "\n",
    "except requests.exceptions.RequestException as e:\n",
    "    print(f'下載YouBike即時資訊時發生錯誤：{e}')\n"
   ]
  },
  {
   "cell_type": "code",
   "execution_count": null,
   "metadata": {},
   "outputs": [],
   "source": [
    "for site in data:\n",
    "    if site['available_rent_bikes'] == 0:\n",
    "        print(site)"
   ]
  },
  {
   "cell_type": "code",
   "execution_count": null,
   "metadata": {},
   "outputs": [
    {
     "name": "stdout",
     "output_type": "stream",
     "text": [
      "67\n",
      "YouBike2.0_溫州停車場\n",
      "YouBike2.0_臺灣科技大學後門\n",
      "YouBike2.0_捷運臺電大樓站(2號出口)\n",
      "YouBike2.0_和平龍泉街口\n",
      "YouBike2.0_捷運古亭站(5號出口)\n",
      "YouBike2.0_臺北科技大學(電機工程系)\n",
      "YouBike2.0_敦親公園\n",
      "YouBike2.0_臺北遠企購物中心\n",
      "YouBike2.0_捷運忠孝復興站(1號出口)\n",
      "YouBike2.0_大安路二段90巷口\n",
      "YouBike2.0_民權延平路口(西北側)\n",
      "YouBike2.0_南京太原路口\n",
      "YouBike2.0_酒泉庫倫街口\n",
      "YouBike2.0_劍潭抽水站\n",
      "YouBike2.0_社子國小\n",
      "YouBike2.0_海光公園南側\n",
      "YouBike2.0_景仁公園\n",
      "YouBike2.0_景美運動公園\n",
      "YouBike2.0_捷運動物園站(2號出口)\n",
      "YouBike2.0_景文街142巷口\n",
      "YouBike2.0_捷運古亭站(9號出口)\n",
      "YouBike2.0_捷運小南門站(1號出口)\n",
      "YouBike2.0_法務部\n",
      "YouBike2.0_羅斯福寧波東街口\n",
      "YouBike2.0_螢橋公園\n",
      "YouBike2.0_羅斯福路四段108巷口\n",
      "YouBike2.0_公館水岸廣場\n",
      "YouBike2.0_中吉公園\n",
      "YouBike2.0_吉林路123巷口\n",
      "YouBike2.0_中原民生路口\n",
      "YouBike2.0_中山北路二段59巷口\n",
      "YouBike2.0_建國長春路口(北側)\n",
      "YouBike2.0_復華公園\n",
      "YouBike2.0_龍江朱崙街口\n",
      "YouBike2.0_林森德惠街口\n",
      "YouBike2.0_敬業三樂群三路口(西北側)\n",
      "YouBike2.0_長春路258巷2弄口\n",
      "YouBike2.0_建國北路高架橋下停車場G區\n",
      "YouBike2.0_朱崙公園\n",
      "YouBike2.0_中崙加油站\n",
      "YouBike2.0_中正國小(南京東路三段48巷)\n",
      "YouBike2.0_成美長壽橋(潭美街)\n",
      "YouBike2.0_舊宗新湖二路口\n",
      "YouBike2.0_長壽抽水站\n",
      "YouBike2.0_關渡宮\n",
      "YouBike2.0_台北護理大學\n",
      "YouBike2.0_陽明交大圖書館\n",
      "YouBike2.0_奇岩一號公園\n",
      "YouBike2.0_立功街55巷口\n",
      "YouBike2.0_北投新興公園\n",
      "YouBike2.0_石牌路二段324巷口\n",
      "YouBike2.0_泉源路23巷口\n",
      "YouBike2.0_南京東路五段59巷口\n",
      "YouBike2.0_寶清公園\n",
      "YouBike2.0_西松高中(健康路325巷)\n",
      "YouBike2.0_寶清八德路口(北側)\n",
      "YouBike2.0_捷運南港軟體園區(2號出口)\n",
      "YouBike2.0_光復信義路口東南側\n",
      "YouBike2.0_松智松壽路口\n",
      "YouBike2.0_松德公園\n",
      "YouBike2.0_廣慈博愛園區(西側)\n",
      "YouBike2.0_革新公園\n",
      "YouBike2.0_永吉路187巷口\n",
      "YouBike2.0_華江八號公園\n",
      "YouBike2.0_環河南雙園街口\n",
      "YouBike2.0_中華桂林路口\n",
      "YouBike2.0_臺大二號館\n"
     ]
    }
   ],
   "source": [
    "def filter_func(n:dict):\n",
    "    return n['available_rent_bikes'] == 0\n",
    "\n",
    "zero_rent_bikes = list(filter(filter_func,data))\n",
    "print(len(zero_rent_bikes))\n",
    "\n",
    "for site in zero_rent_bikes:\n",
    "    print(site['sna'])"
   ]
  }
 ],
 "metadata": {
  "kernelspec": {
   "display_name": "base",
   "language": "python",
   "name": "python3"
  },
  "language_info": {
   "codemirror_mode": {
    "name": "ipython",
    "version": 3
   },
   "file_extension": ".py",
   "mimetype": "text/x-python",
   "name": "python",
   "nbconvert_exporter": "python",
   "pygments_lexer": "ipython3",
   "version": "3.12.8"
  }
 },
 "nbformat": 4,
 "nbformat_minor": 2
}
