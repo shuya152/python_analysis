{
 "cells": [
  {
   "cell_type": "code",
   "execution_count": null,
   "metadata": {},
   "outputs": [],
   "source": [
    "import csv\n",
    "from pprint import pprint\n",
    "with open(file='新北市公共自行車租賃系統(YouBike).csv',encoding='utf-8') as file:\n",
    "    reader = csv.DictReader(file)\n",
    "    homes = list(reader)\n",
    "\n",
    "pprint(homes)\n",
    "\n"
   ]
  },
  {
   "cell_type": "code",
   "execution_count": 1,
   "metadata": {},
   "outputs": [
    {
     "name": "stdout",
     "output_type": "stream",
     "text": [
      "YouBike即時資訊下載完成！\n"
     ]
    }
   ],
   "source": [
    "import requests\n",
    "\n",
    "url = 'https://tcgbusfs.blob.core.windows.net/dotapp/youbike/v2/youbike_immediate.json'\n",
    "\n",
    "try:\n",
    "    response = requests.get(url)\n",
    "    response.raise_for_status()  # 檢查HTTP狀態碼，確保請求成功\n",
    "\n",
    "    data = response.json()  # 將JSON格式的資料轉換為Python字典\n",
    "\n",
    "    # 在這裡你可以對data做任何處理，例如儲存到檔案或分析資料\n",
    "    # 以下是一個簡單的範例，將資料儲存到youbike_data.json檔案中\n",
    "    with open('youbike_data.json', 'w', encoding='utf-8') as f:\n",
    "        import json\n",
    "        json.dump(data, f, ensure_ascii=False, indent=4)\n",
    "\n",
    "    print('YouBike即時資訊下載完成！')\n",
    "\n",
    "except requests.exceptions.RequestException as e:\n",
    "    print(f'下載YouBike即時資訊時發生錯誤：{e}')\n",
    "except json.JSONDecodeError as e:\n",
    "    print(f'解析JSON資料時發生錯誤：{e}')"
   ]
  },
  {
   "cell_type": "code",
   "execution_count": null,
   "metadata": {},
   "outputs": [
    {
     "name": "stdout",
     "output_type": "stream",
     "text": [
      "出錯了:404 Client Error: The specified blob does not exist. for url: https://tcgbusfs.blob.core.windows.net/dotapp/youbike/v2/oubike_immediate.json\n"
     ]
    }
   ],
   "source": [
    "import requests\n",
    "from requests import Response\n",
    "try:\n",
    "    url = 'https://tcgbusfs.blob.core.windows.net/dotapp/youbike/v2/youbike_immediate.json'\n",
    "    response:Response = requests.get(url=url)\n",
    "    response.raise_for_status()    \n",
    "    sites:list = response.json()\n",
    "    for item in sites:\n",
    "        if item['sna'] == 'YouBike2.0_臺大水源舍區B棟':\n",
    "            print(item)\n",
    "        \n",
    "except Exception as e:\n",
    "    print(f'出錯了:{e}')\n",
    "\n"
   ]
  },
  {
   "cell_type": "code",
   "execution_count": 21,
   "metadata": {},
   "outputs": [
    {
     "name": "stdout",
     "output_type": "stream",
     "text": [
      "404\n",
      "下載失敗\n"
     ]
    }
   ],
   "source": [
    "if response.status_code == 200:\n",
    "    sites:list = response.json()\n",
    "    for item in sites:\n",
    "        if item['sna'] == 'YouBike2.0_臺大水源舍區B棟':\n",
    "            print(item)\n",
    "else:\n",
    "    print(response.status_code)\n",
    "    print(\"下載失敗\")"
   ]
  },
  {
   "cell_type": "code",
   "execution_count": 27,
   "metadata": {},
   "outputs": [
    {
     "name": "stdout",
     "output_type": "stream",
     "text": [
      "出錯了:division by zero\n"
     ]
    }
   ],
   "source": [
    "try:\n",
    "    5/0\n",
    "except Exception as e:\n",
    "    print(f'出錯了:{e}')"
   ]
  }
 ],
 "metadata": {
  "kernelspec": {
   "display_name": "base",
   "language": "python",
   "name": "python3"
  },
  "language_info": {
   "codemirror_mode": {
    "name": "ipython",
    "version": 3
   },
   "file_extension": ".py",
   "mimetype": "text/x-python",
   "name": "python",
   "nbconvert_exporter": "python",
   "pygments_lexer": "ipython3",
   "version": "3.12.9"
  }
 },
 "nbformat": 4,
 "nbformat_minor": 2
}
