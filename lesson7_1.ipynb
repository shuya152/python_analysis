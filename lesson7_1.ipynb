{
  "cells": [
    {
      "cell_type": "markdown",
      "metadata": {},
      "source": [
        "https://colab.research.google.com/drive/10i6HD65JTeEWxIbfiuFILNXh1Jc0pPhd?usp=sharing"
      ]
    },
    {
      "cell_type": "markdown",
      "metadata": {},
      "source": [
        "!pip install requests bs4 pandas matplotlib wget"
      ]
    },
    {
      "cell_type": "code",
      "execution_count": null,
      "metadata": {
        "colab": {
          "base_uri": "https://localhost:8080/",
          "height": 35
        },
        "id": "zkQdOG5bavMg",
        "outputId": "3582fb0d-0b37-44b0-a494-ec82630954aa"
      },
      "outputs": [
        {
          "data": {
            "application/vnd.google.colaboratory.intrinsic+json": {
              "type": "string"
            },
            "text/plain": [
              "'ChineseFont.ttf'"
            ]
          },
          "execution_count": 3,
          "metadata": {},
          "output_type": "execute_result"
        }
      ],
      "source": [
        "import wget\n",
        "wget.download('https://github.com/roberthsu2003/__2025_01_04_chihlee__/raw/refs/heads/main/ChineseFont.ttf')"
      ]
    },
    {
      "cell_type": "code",
      "execution_count": null,
      "metadata": {
        "id": "iUPsLhdtVesu"
      },
      "outputs": [],
      "source": [
        "import requests\n",
        "from requests import Response\n",
        "url = 'https://rate.bot.com.tw/xrt?Lang=zh-TW'\n",
        "response = requests.get(url)\n",
        "print(response.text)"
      ]
    },
    {
      "cell_type": "code",
      "execution_count": null,
      "metadata": {
        "colab": {
          "base_uri": "https://localhost:8080/"
        },
        "id": "XYCwjeDkVx_4",
        "outputId": "e1206b21-24f1-4602-a3eb-c22eade347ca"
      },
      "outputs": [
        {
          "name": "stdout",
          "output_type": "stream",
          "text": [
            "[{'幣別': '美金 (USD)', '現金買入': '32.435', '現金賣出': '33.105'},\n",
            " {'幣別': '港幣 (HKD)', '現金買入': '4.07', '現金賣出': '4.274'},\n",
            " {'幣別': '英鎊 (GBP)', '現金買入': '41.25', '現金賣出': '43.37'},\n",
            " {'幣別': '澳幣 (AUD)', '現金買入': '20.32', '現金賣出': '21.1'},\n",
            " {'幣別': '加拿大幣 (CAD)', '現金買入': '22.35', '現金賣出': '23.26'},\n",
            " {'幣別': '新加坡幣 (SGD)', '現金買入': '24.09', '現金賣出': '25'},\n",
            " {'幣別': '瑞士法郎 (CHF)', '現金買入': '36.51', '現金賣出': '37.71'},\n",
            " {'幣別': '日圓 (JPY)', '現金買入': '0.2127', '現金賣出': '0.2255'},\n",
            " {'幣別': '南非幣 (ZAR)', '現金買入': '-', '現金賣出': '-'},\n",
            " {'幣別': '瑞典幣 (SEK)', '現金買入': '-', '現金賣出': '-'},\n",
            " {'幣別': '紐元 (NZD)', '現金買入': '18.27', '現金賣出': '19.12'},\n",
            " {'幣別': '泰幣 (THB)', '現金買入': '0.8463', '現金賣出': '1.0363'},\n",
            " {'幣別': '菲國比索 (PHP)', '現金買入': '0.5055', '現金賣出': '0.6375'},\n",
            " {'幣別': '印尼幣 (IDR)', '現金買入': '0.00168', '現金賣出': '0.00238'},\n",
            " {'幣別': '歐元 (EUR)', '現金買入': '34.77', '現金賣出': '36.11'},\n",
            " {'幣別': '韓元 (KRW)', '現金買入': '0.02091', '現金賣出': '0.02481'},\n",
            " {'幣別': '越南盾 (VND)', '現金買入': '0.00104', '現金賣出': '0.00145'},\n",
            " {'幣別': '馬來幣 (MYR)', '現金買入': '6.412', '現金賣出': '7.937'},\n",
            " {'幣別': '人民幣 (CNY)', '現金買入': '4.436', '現金賣出': '4.598'}]\n"
          ]
        }
      ],
      "source": [
        "from bs4 import BeautifulSoup\n",
        "from pprint import pprint\n",
        "soup = BeautifulSoup(response.text, 'html.parser')\n",
        "\n",
        "# 尋找帶有特定 title 屬性的表格\n",
        "rate_table = soup.find('table', {'title': '牌告匯率'})\n",
        "\n",
        "# 取得所有幣別和現金匯率資料\n",
        "currency_rows = rate_table.tbody.find_all('tr')\n",
        "\n",
        "rates:list[dict] = []\n",
        "\n",
        "for row in currency_rows:\n",
        "    currency_dict = {}\n",
        "    # 取行中的幣別資料\n",
        "    currency = row.find(\"td\", attrs={\"data-table\": \"幣別\"}).find(\"div\", class_=\"visible-phone\").text.strip()\n",
        "    currency_dict[\"幣別\"] = currency\n",
        "\n",
        "    # 取得即期買入匯率\n",
        "    currency_get = row.find(\"td\", attrs={\"data-table\": \"本行現金買入\"}).text.strip()\n",
        "    currency_dict[\"現金買入\"] = currency_get\n",
        "\n",
        "    # 取得即期賣出匯率\n",
        "    currency_send = row.find(\"td\", attrs={\"data-table\": \"本行現金賣出\"}).text.strip()\n",
        "    currency_dict[\"現金賣出\"] = currency_send\n",
        "\n",
        "    #print(f\"幣別: {currency}, 現金買入: {currency_get}, 現金賣出: {currency_send}\")\n",
        "    #print(\"-\" * 60)\n",
        "    rates.append(currency_dict)\n",
        "\n",
        "pprint(rates)"
      ]
    },
    {
      "cell_type": "code",
      "execution_count": null,
      "metadata": {
        "colab": {
          "base_uri": "https://localhost:8080/"
        },
        "id": "-Hg5zcR7V5O8",
        "outputId": "da88c328-84a1-4fe7-e32c-08033f7c151b"
      },
      "outputs": [
        {
          "data": {
            "text/plain": [
              "[{'幣別': '美金 (USD)', '現金買入': '32.435', '現金賣出': '33.105'},\n",
              " {'幣別': '港幣 (HKD)', '現金買入': '4.07', '現金賣出': '4.274'},\n",
              " {'幣別': '英鎊 (GBP)', '現金買入': '41.25', '現金賣出': '43.37'},\n",
              " {'幣別': '澳幣 (AUD)', '現金買入': '20.32', '現金賣出': '21.1'},\n",
              " {'幣別': '加拿大幣 (CAD)', '現金買入': '22.35', '現金賣出': '23.26'},\n",
              " {'幣別': '新加坡幣 (SGD)', '現金買入': '24.09', '現金賣出': '25'},\n",
              " {'幣別': '瑞士法郎 (CHF)', '現金買入': '36.51', '現金賣出': '37.71'},\n",
              " {'幣別': '日圓 (JPY)', '現金買入': '0.2127', '現金賣出': '0.2255'},\n",
              " {'幣別': '紐元 (NZD)', '現金買入': '18.27', '現金賣出': '19.12'},\n",
              " {'幣別': '泰幣 (THB)', '現金買入': '0.8463', '現金賣出': '1.0363'},\n",
              " {'幣別': '菲國比索 (PHP)', '現金買入': '0.5055', '現金賣出': '0.6375'},\n",
              " {'幣別': '印尼幣 (IDR)', '現金買入': '0.00168', '現金賣出': '0.00238'},\n",
              " {'幣別': '歐元 (EUR)', '現金買入': '34.77', '現金賣出': '36.11'},\n",
              " {'幣別': '韓元 (KRW)', '現金買入': '0.02091', '現金賣出': '0.02481'},\n",
              " {'幣別': '越南盾 (VND)', '現金買入': '0.00104', '現金賣出': '0.00145'},\n",
              " {'幣別': '馬來幣 (MYR)', '現金買入': '6.412', '現金賣出': '7.937'},\n",
              " {'幣別': '人民幣 (CNY)', '現金買入': '4.436', '現金賣出': '4.598'}]"
            ]
          },
          "execution_count": 3,
          "metadata": {},
          "output_type": "execute_result"
        }
      ],
      "source": [
        "def filter_func(item:dict)->bool:\n",
        "    if item[\"現金買入\"] == \"-\":\n",
        "        return False\n",
        "    else:\n",
        "        return True\n",
        "\n",
        "filtered_rates = list(filter(filter_func,rates))\n",
        "filtered_rates"
      ]
    },
    {
      "cell_type": "code",
      "execution_count": null,
      "metadata": {
        "colab": {
          "base_uri": "https://localhost:8080/"
        },
        "id": "Po-3hE0vV_r7",
        "outputId": "680499be-e797-4e2a-d38a-d2d8907cb30e"
      },
      "outputs": [
        {
          "data": {
            "text/plain": [
              "[{'幣別': '美金 (USD)', '現金買入': 32.435, '現金賣出': 33.105},\n",
              " {'幣別': '港幣 (HKD)', '現金買入': 4.07, '現金賣出': 4.274},\n",
              " {'幣別': '英鎊 (GBP)', '現金買入': 41.25, '現金賣出': 43.37},\n",
              " {'幣別': '澳幣 (AUD)', '現金買入': 20.32, '現金賣出': 21.1},\n",
              " {'幣別': '加拿大幣 (CAD)', '現金買入': 22.35, '現金賣出': 23.26},\n",
              " {'幣別': '新加坡幣 (SGD)', '現金買入': 24.09, '現金賣出': 25.0},\n",
              " {'幣別': '瑞士法郎 (CHF)', '現金買入': 36.51, '現金賣出': 37.71},\n",
              " {'幣別': '日圓 (JPY)', '現金買入': 0.2127, '現金賣出': 0.2255},\n",
              " {'幣別': '紐元 (NZD)', '現金買入': 18.27, '現金賣出': 19.12},\n",
              " {'幣別': '泰幣 (THB)', '現金買入': 0.8463, '現金賣出': 1.0363},\n",
              " {'幣別': '菲國比索 (PHP)', '現金買入': 0.5055, '現金賣出': 0.6375},\n",
              " {'幣別': '印尼幣 (IDR)', '現金買入': 0.00168, '現金賣出': 0.00238},\n",
              " {'幣別': '歐元 (EUR)', '現金買入': 34.77, '現金賣出': 36.11},\n",
              " {'幣別': '韓元 (KRW)', '現金買入': 0.02091, '現金賣出': 0.02481},\n",
              " {'幣別': '越南盾 (VND)', '現金買入': 0.00104, '現金賣出': 0.00145},\n",
              " {'幣別': '馬來幣 (MYR)', '現金買入': 6.412, '現金賣出': 7.937},\n",
              " {'幣別': '人民幣 (CNY)', '現金買入': 4.436, '現金賣出': 4.598}]"
            ]
          },
          "execution_count": 4,
          "metadata": {},
          "output_type": "execute_result"
        }
      ],
      "source": [
        "def map_func(item:dict)->dict:\n",
        "    item[\"現金買入\"] = float(item[\"現金買入\"])\n",
        "    item[\"現金賣出\"] = float(item[\"現金賣出\"])\n",
        "    return item\n",
        "\n",
        "cleared_list= list(map(map_func,filtered_rates))\n",
        "cleared_list"
      ]
    },
    {
      "cell_type": "code",
      "execution_count": null,
      "metadata": {
        "colab": {
          "base_uri": "https://localhost:8080/",
          "height": 206
        },
        "id": "0BbShdQRWCWS",
        "outputId": "2a1cbab3-2175-40bb-80c5-4d3903bd35f7"
      },
      "outputs": [
        {
          "data": {
            "application/vnd.google.colaboratory.intrinsic+json": {
              "summary": "{\n  \"name\": \"df\",\n  \"rows\": 17,\n  \"fields\": [\n    {\n      \"column\": \"\\u5e63\\u5225\",\n      \"properties\": {\n        \"dtype\": \"string\",\n        \"num_unique_values\": 17,\n        \"samples\": [\n          \"\\u82f1\\u938a (GBP)\",\n          \"\\u745e\\u58eb\\u6cd5\\u90ce (CHF)\",\n          \"\\u52a0\\u62ff\\u5927\\u5e63 (CAD)\"\n        ],\n        \"semantic_type\": \"\",\n        \"description\": \"\"\n      }\n    },\n    {\n      \"column\": \"\\u73fe\\u91d1\\u8cb7\\u5165\",\n      \"properties\": {\n        \"dtype\": \"number\",\n        \"std\": 15.054405566326317,\n        \"min\": 0.00104,\n        \"max\": 41.25,\n        \"num_unique_values\": 17,\n        \"samples\": [\n          41.25,\n          36.51,\n          22.35\n        ],\n        \"semantic_type\": \"\",\n        \"description\": \"\"\n      }\n    },\n    {\n      \"column\": \"\\u73fe\\u91d1\\u8ce3\\u51fa\",\n      \"properties\": {\n        \"dtype\": \"number\",\n        \"std\": 15.578216369909327,\n        \"min\": 0.00145,\n        \"max\": 43.37,\n        \"num_unique_values\": 17,\n        \"samples\": [\n          43.37,\n          37.71,\n          23.26\n        ],\n        \"semantic_type\": \"\",\n        \"description\": \"\"\n      }\n    }\n  ]\n}",
              "type": "dataframe",
              "variable_name": "df"
            },
            "text/html": [
              "\n",
              "  <div id=\"df-937e6d9e-7fa1-40ee-9f29-1098db0c32ed\" class=\"colab-df-container\">\n",
              "    <div>\n",
              "<style scoped>\n",
              "    .dataframe tbody tr th:only-of-type {\n",
              "        vertical-align: middle;\n",
              "    }\n",
              "\n",
              "    .dataframe tbody tr th {\n",
              "        vertical-align: top;\n",
              "    }\n",
              "\n",
              "    .dataframe thead th {\n",
              "        text-align: right;\n",
              "    }\n",
              "</style>\n",
              "<table border=\"1\" class=\"dataframe\">\n",
              "  <thead>\n",
              "    <tr style=\"text-align: right;\">\n",
              "      <th></th>\n",
              "      <th>幣別</th>\n",
              "      <th>現金買入</th>\n",
              "      <th>現金賣出</th>\n",
              "    </tr>\n",
              "  </thead>\n",
              "  <tbody>\n",
              "    <tr>\n",
              "      <th>2</th>\n",
              "      <td>英鎊 (GBP)</td>\n",
              "      <td>41.250</td>\n",
              "      <td>43.370</td>\n",
              "    </tr>\n",
              "    <tr>\n",
              "      <th>6</th>\n",
              "      <td>瑞士法郎 (CHF)</td>\n",
              "      <td>36.510</td>\n",
              "      <td>37.710</td>\n",
              "    </tr>\n",
              "    <tr>\n",
              "      <th>12</th>\n",
              "      <td>歐元 (EUR)</td>\n",
              "      <td>34.770</td>\n",
              "      <td>36.110</td>\n",
              "    </tr>\n",
              "    <tr>\n",
              "      <th>0</th>\n",
              "      <td>美金 (USD)</td>\n",
              "      <td>32.435</td>\n",
              "      <td>33.105</td>\n",
              "    </tr>\n",
              "    <tr>\n",
              "      <th>5</th>\n",
              "      <td>新加坡幣 (SGD)</td>\n",
              "      <td>24.090</td>\n",
              "      <td>25.000</td>\n",
              "    </tr>\n",
              "  </tbody>\n",
              "</table>\n",
              "</div>\n",
              "    <div class=\"colab-df-buttons\">\n",
              "\n",
              "  <div class=\"colab-df-container\">\n",
              "    <button class=\"colab-df-convert\" onclick=\"convertToInteractive('df-937e6d9e-7fa1-40ee-9f29-1098db0c32ed')\"\n",
              "            title=\"Convert this dataframe to an interactive table.\"\n",
              "            style=\"display:none;\">\n",
              "\n",
              "  <svg xmlns=\"http://www.w3.org/2000/svg\" height=\"24px\" viewBox=\"0 -960 960 960\">\n",
              "    <path d=\"M120-120v-720h720v720H120Zm60-500h600v-160H180v160Zm220 220h160v-160H400v160Zm0 220h160v-160H400v160ZM180-400h160v-160H180v160Zm440 0h160v-160H620v160ZM180-180h160v-160H180v160Zm440 0h160v-160H620v160Z\"/>\n",
              "  </svg>\n",
              "    </button>\n",
              "\n",
              "  <style>\n",
              "    .colab-df-container {\n",
              "      display:flex;\n",
              "      gap: 12px;\n",
              "    }\n",
              "\n",
              "    .colab-df-convert {\n",
              "      background-color: #E8F0FE;\n",
              "      border: none;\n",
              "      border-radius: 50%;\n",
              "      cursor: pointer;\n",
              "      display: none;\n",
              "      fill: #1967D2;\n",
              "      height: 32px;\n",
              "      padding: 0 0 0 0;\n",
              "      width: 32px;\n",
              "    }\n",
              "\n",
              "    .colab-df-convert:hover {\n",
              "      background-color: #E2EBFA;\n",
              "      box-shadow: 0px 1px 2px rgba(60, 64, 67, 0.3), 0px 1px 3px 1px rgba(60, 64, 67, 0.15);\n",
              "      fill: #174EA6;\n",
              "    }\n",
              "\n",
              "    .colab-df-buttons div {\n",
              "      margin-bottom: 4px;\n",
              "    }\n",
              "\n",
              "    [theme=dark] .colab-df-convert {\n",
              "      background-color: #3B4455;\n",
              "      fill: #D2E3FC;\n",
              "    }\n",
              "\n",
              "    [theme=dark] .colab-df-convert:hover {\n",
              "      background-color: #434B5C;\n",
              "      box-shadow: 0px 1px 3px 1px rgba(0, 0, 0, 0.15);\n",
              "      filter: drop-shadow(0px 1px 2px rgba(0, 0, 0, 0.3));\n",
              "      fill: #FFFFFF;\n",
              "    }\n",
              "  </style>\n",
              "\n",
              "    <script>\n",
              "      const buttonEl =\n",
              "        document.querySelector('#df-937e6d9e-7fa1-40ee-9f29-1098db0c32ed button.colab-df-convert');\n",
              "      buttonEl.style.display =\n",
              "        google.colab.kernel.accessAllowed ? 'block' : 'none';\n",
              "\n",
              "      async function convertToInteractive(key) {\n",
              "        const element = document.querySelector('#df-937e6d9e-7fa1-40ee-9f29-1098db0c32ed');\n",
              "        const dataTable =\n",
              "          await google.colab.kernel.invokeFunction('convertToInteractive',\n",
              "                                                    [key], {});\n",
              "        if (!dataTable) return;\n",
              "\n",
              "        const docLinkHtml = 'Like what you see? Visit the ' +\n",
              "          '<a target=\"_blank\" href=https://colab.research.google.com/notebooks/data_table.ipynb>data table notebook</a>'\n",
              "          + ' to learn more about interactive tables.';\n",
              "        element.innerHTML = '';\n",
              "        dataTable['output_type'] = 'display_data';\n",
              "        await google.colab.output.renderOutput(dataTable, element);\n",
              "        const docLink = document.createElement('div');\n",
              "        docLink.innerHTML = docLinkHtml;\n",
              "        element.appendChild(docLink);\n",
              "      }\n",
              "    </script>\n",
              "  </div>\n",
              "\n",
              "\n",
              "<div id=\"df-8da1d448-bb54-4e84-9cec-c485665e0222\">\n",
              "  <button class=\"colab-df-quickchart\" onclick=\"quickchart('df-8da1d448-bb54-4e84-9cec-c485665e0222')\"\n",
              "            title=\"Suggest charts\"\n",
              "            style=\"display:none;\">\n",
              "\n",
              "<svg xmlns=\"http://www.w3.org/2000/svg\" height=\"24px\"viewBox=\"0 0 24 24\"\n",
              "     width=\"24px\">\n",
              "    <g>\n",
              "        <path d=\"M19 3H5c-1.1 0-2 .9-2 2v14c0 1.1.9 2 2 2h14c1.1 0 2-.9 2-2V5c0-1.1-.9-2-2-2zM9 17H7v-7h2v7zm4 0h-2V7h2v10zm4 0h-2v-4h2v4z\"/>\n",
              "    </g>\n",
              "</svg>\n",
              "  </button>\n",
              "\n",
              "<style>\n",
              "  .colab-df-quickchart {\n",
              "      --bg-color: #E8F0FE;\n",
              "      --fill-color: #1967D2;\n",
              "      --hover-bg-color: #E2EBFA;\n",
              "      --hover-fill-color: #174EA6;\n",
              "      --disabled-fill-color: #AAA;\n",
              "      --disabled-bg-color: #DDD;\n",
              "  }\n",
              "\n",
              "  [theme=dark] .colab-df-quickchart {\n",
              "      --bg-color: #3B4455;\n",
              "      --fill-color: #D2E3FC;\n",
              "      --hover-bg-color: #434B5C;\n",
              "      --hover-fill-color: #FFFFFF;\n",
              "      --disabled-bg-color: #3B4455;\n",
              "      --disabled-fill-color: #666;\n",
              "  }\n",
              "\n",
              "  .colab-df-quickchart {\n",
              "    background-color: var(--bg-color);\n",
              "    border: none;\n",
              "    border-radius: 50%;\n",
              "    cursor: pointer;\n",
              "    display: none;\n",
              "    fill: var(--fill-color);\n",
              "    height: 32px;\n",
              "    padding: 0;\n",
              "    width: 32px;\n",
              "  }\n",
              "\n",
              "  .colab-df-quickchart:hover {\n",
              "    background-color: var(--hover-bg-color);\n",
              "    box-shadow: 0 1px 2px rgba(60, 64, 67, 0.3), 0 1px 3px 1px rgba(60, 64, 67, 0.15);\n",
              "    fill: var(--button-hover-fill-color);\n",
              "  }\n",
              "\n",
              "  .colab-df-quickchart-complete:disabled,\n",
              "  .colab-df-quickchart-complete:disabled:hover {\n",
              "    background-color: var(--disabled-bg-color);\n",
              "    fill: var(--disabled-fill-color);\n",
              "    box-shadow: none;\n",
              "  }\n",
              "\n",
              "  .colab-df-spinner {\n",
              "    border: 2px solid var(--fill-color);\n",
              "    border-color: transparent;\n",
              "    border-bottom-color: var(--fill-color);\n",
              "    animation:\n",
              "      spin 1s steps(1) infinite;\n",
              "  }\n",
              "\n",
              "  @keyframes spin {\n",
              "    0% {\n",
              "      border-color: transparent;\n",
              "      border-bottom-color: var(--fill-color);\n",
              "      border-left-color: var(--fill-color);\n",
              "    }\n",
              "    20% {\n",
              "      border-color: transparent;\n",
              "      border-left-color: var(--fill-color);\n",
              "      border-top-color: var(--fill-color);\n",
              "    }\n",
              "    30% {\n",
              "      border-color: transparent;\n",
              "      border-left-color: var(--fill-color);\n",
              "      border-top-color: var(--fill-color);\n",
              "      border-right-color: var(--fill-color);\n",
              "    }\n",
              "    40% {\n",
              "      border-color: transparent;\n",
              "      border-right-color: var(--fill-color);\n",
              "      border-top-color: var(--fill-color);\n",
              "    }\n",
              "    60% {\n",
              "      border-color: transparent;\n",
              "      border-right-color: var(--fill-color);\n",
              "    }\n",
              "    80% {\n",
              "      border-color: transparent;\n",
              "      border-right-color: var(--fill-color);\n",
              "      border-bottom-color: var(--fill-color);\n",
              "    }\n",
              "    90% {\n",
              "      border-color: transparent;\n",
              "      border-bottom-color: var(--fill-color);\n",
              "    }\n",
              "  }\n",
              "</style>\n",
              "\n",
              "  <script>\n",
              "    async function quickchart(key) {\n",
              "      const quickchartButtonEl =\n",
              "        document.querySelector('#' + key + ' button');\n",
              "      quickchartButtonEl.disabled = true;  // To prevent multiple clicks.\n",
              "      quickchartButtonEl.classList.add('colab-df-spinner');\n",
              "      try {\n",
              "        const charts = await google.colab.kernel.invokeFunction(\n",
              "            'suggestCharts', [key], {});\n",
              "      } catch (error) {\n",
              "        console.error('Error during call to suggestCharts:', error);\n",
              "      }\n",
              "      quickchartButtonEl.classList.remove('colab-df-spinner');\n",
              "      quickchartButtonEl.classList.add('colab-df-quickchart-complete');\n",
              "    }\n",
              "    (() => {\n",
              "      let quickchartButtonEl =\n",
              "        document.querySelector('#df-8da1d448-bb54-4e84-9cec-c485665e0222 button');\n",
              "      quickchartButtonEl.style.display =\n",
              "        google.colab.kernel.accessAllowed ? 'block' : 'none';\n",
              "    })();\n",
              "  </script>\n",
              "</div>\n",
              "\n",
              "    </div>\n",
              "  </div>\n"
            ],
            "text/plain": [
              "            幣別    現金買入    現金賣出\n",
              "2     英鎊 (GBP)  41.250  43.370\n",
              "6   瑞士法郎 (CHF)  36.510  37.710\n",
              "12    歐元 (EUR)  34.770  36.110\n",
              "0     美金 (USD)  32.435  33.105\n",
              "5   新加坡幣 (SGD)  24.090  25.000"
            ]
          },
          "execution_count": 5,
          "metadata": {},
          "output_type": "execute_result"
        }
      ],
      "source": [
        "import pandas as pd\n",
        "df = pd.DataFrame(cleared_list)\n",
        "df = df.sort_values(by=\"現金買入\",ascending=False)\n",
        "df.head()"
      ]
    },
    {
      "cell_type": "code",
      "execution_count": null,
      "metadata": {
        "colab": {
          "base_uri": "https://localhost:8080/",
          "height": 434
        },
        "id": "yXE472JwWLSl",
        "outputId": "833d9f0d-01fe-4aec-80b6-fec8bf9b0efd"
      },
      "outputs": [
        {
          "data": {
            "image/png": "[encoded data removed]",
            "text/plain": [
              "<Figure size 640x480 with 1 Axes>"
            ]
          },
          "metadata": {},
          "output_type": "display_data"
        }
      ],
      "source": [
        "import matplotlib.pyplot as plt\n",
        "df['現金買入'].plot(kind='bar')\n",
        "plt.show()"
      ]
    },
    {
      "cell_type": "code",
      "execution_count": null,
      "metadata": {
        "colab": {
          "base_uri": "https://localhost:8080/",
          "height": 617
        },
        "id": "fTx0KcVpWVO8",
        "outputId": "134834a8-59c0-48d9-ca37-ec26961cdb8c"
      },
      "outputs": [
        {
          "data": {
            "text/html": [
              "<div>\n",
              "<style scoped>\n",
              "    .dataframe tbody tr th:only-of-type {\n",
              "        vertical-align: middle;\n",
              "    }\n",
              "\n",
              "    .dataframe tbody tr th {\n",
              "        vertical-align: top;\n",
              "    }\n",
              "\n",
              "    .dataframe thead th {\n",
              "        text-align: right;\n",
              "    }\n",
              "</style>\n",
              "<table border=\"1\" class=\"dataframe\">\n",
              "  <thead>\n",
              "    <tr style=\"text-align: right;\">\n",
              "      <th></th>\n",
              "      <th>幣別</th>\n",
              "    </tr>\n",
              "  </thead>\n",
              "  <tbody>\n",
              "    <tr>\n",
              "      <th>2</th>\n",
              "      <td>(GBP)</td>\n",
              "    </tr>\n",
              "    <tr>\n",
              "      <th>6</th>\n",
              "      <td>(CHF)</td>\n",
              "    </tr>\n",
              "    <tr>\n",
              "      <th>12</th>\n",
              "      <td>(EUR)</td>\n",
              "    </tr>\n",
              "    <tr>\n",
              "      <th>0</th>\n",
              "      <td>(USD)</td>\n",
              "    </tr>\n",
              "    <tr>\n",
              "      <th>5</th>\n",
              "      <td>(SGD)</td>\n",
              "    </tr>\n",
              "    <tr>\n",
              "      <th>4</th>\n",
              "      <td>(CAD)</td>\n",
              "    </tr>\n",
              "    <tr>\n",
              "      <th>3</th>\n",
              "      <td>(AUD)</td>\n",
              "    </tr>\n",
              "    <tr>\n",
              "      <th>8</th>\n",
              "      <td>(NZD)</td>\n",
              "    </tr>\n",
              "    <tr>\n",
              "      <th>15</th>\n",
              "      <td>(MYR)</td>\n",
              "    </tr>\n",
              "    <tr>\n",
              "      <th>16</th>\n",
              "      <td>(CNY)</td>\n",
              "    </tr>\n",
              "    <tr>\n",
              "      <th>1</th>\n",
              "      <td>(HKD)</td>\n",
              "    </tr>\n",
              "    <tr>\n",
              "      <th>9</th>\n",
              "      <td>(THB)</td>\n",
              "    </tr>\n",
              "    <tr>\n",
              "      <th>10</th>\n",
              "      <td>(PHP)</td>\n",
              "    </tr>\n",
              "    <tr>\n",
              "      <th>7</th>\n",
              "      <td>(JPY)</td>\n",
              "    </tr>\n",
              "    <tr>\n",
              "      <th>13</th>\n",
              "      <td>(KRW)</td>\n",
              "    </tr>\n",
              "    <tr>\n",
              "      <th>11</th>\n",
              "      <td>(IDR)</td>\n",
              "    </tr>\n",
              "    <tr>\n",
              "      <th>14</th>\n",
              "      <td>(VND)</td>\n",
              "    </tr>\n",
              "  </tbody>\n",
              "</table>\n",
              "</div><br><label><b>dtype:</b> object</label>"
            ],
            "text/plain": [
              "2     (GBP)\n",
              "6     (CHF)\n",
              "12    (EUR)\n",
              "0     (USD)\n",
              "5     (SGD)\n",
              "4     (CAD)\n",
              "3     (AUD)\n",
              "8     (NZD)\n",
              "15    (MYR)\n",
              "16    (CNY)\n",
              "1     (HKD)\n",
              "9     (THB)\n",
              "10    (PHP)\n",
              "7     (JPY)\n",
              "13    (KRW)\n",
              "11    (IDR)\n",
              "14    (VND)\n",
              "Name: 幣別, dtype: object"
            ]
          },
          "execution_count": 7,
          "metadata": {},
          "output_type": "execute_result"
        }
      ],
      "source": [
        "df['幣別'].apply(lambda x: x.split()[-1])"
      ]
    },
    {
      "cell_type": "code",
      "execution_count": null,
      "metadata": {
        "colab": {
          "base_uri": "https://localhost:8080/",
          "height": 487
        },
        "id": "0FjT204wWXPI",
        "outputId": "17602e17-29ee-4b14-89d9-33a29641ccd0"
      },
      "outputs": [
        {
          "data": {
            "image/png": "[encoded data removed]",
            "text/plain": [
              "<Figure size 1000x500 with 1 Axes>"
            ]
          },
          "metadata": {},
          "output_type": "display_data"
        }
      ],
      "source": [
        "import matplotlib.pyplot as plt\n",
        "# 1.製作figure\n",
        "fig = plt.figure(figsize=(10, 5))\n",
        "ax_1 = fig.add_subplot(1, 1, 1)\n",
        "ax_1.bar(df['幣別'].apply(lambda x: x.split()[-1]),df['現金買入'])\n",
        "ax_1.set_title('currency buy rate')\n",
        "ax_1.set_xlabel('currency')\n",
        "ax_1.set_ylabel('rate(NTD)')\n",
        "plt.show()"
      ]
    }
  ],
  "metadata": {
    "colab": {
      "provenance": []
    },
    "kernelspec": {
      "display_name": "Python 3",
      "name": "python3"
    },
    "language_info": {
      "name": "python"
    }
  },
  "nbformat": 4,
  "nbformat_minor": 0
}
