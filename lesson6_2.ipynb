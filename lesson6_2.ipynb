{
 "cells": [
  {
   "cell_type": "code",
   "execution_count": null,
   "metadata": {},
   "outputs": [],
   "source": [
    "import requests\n",
    "from requests import Response\n",
    "url = 'https://rate.bot.com.tw/xrt?Lang=zh-TW'\n",
    "response = requests.get(url)\n",
    "print(response.text)"
   ]
  },
  {
   "cell_type": "code",
   "execution_count": 21,
   "metadata": {},
   "outputs": [
    {
     "name": "stdout",
     "output_type": "stream",
     "text": [
      "[{'幣別': '美金 (USD)', '現金買入': '32.345', '現金賣出': '33.015'},\n",
      " {'幣別': '港幣 (HKD)', '現金買入': '4.058', '現金賣出': '4.262'},\n",
      " {'幣別': '英鎊 (GBP)', '現金買入': '40.23', '現金賣出': '42.35'},\n",
      " {'幣別': '澳幣 (AUD)', '現金買入': '20.49', '現金賣出': '21.27'},\n",
      " {'幣別': '加拿大幣 (CAD)', '現金買入': '22.57', '現金賣出': '23.48'},\n",
      " {'幣別': '新加坡幣 (SGD)', '現金買入': '23.92', '現金賣出': '24.83'},\n",
      " {'幣別': '瑞士法郎 (CHF)', '現金買入': '35.66', '現金賣出': '36.86'},\n",
      " {'幣別': '日圓 (JPY)', '現金買入': '0.2101', '現金賣出': '0.2229'},\n",
      " {'幣別': '南非幣 (ZAR)', '現金買入': '-', '現金賣出': '-'},\n",
      " {'幣別': '瑞典幣 (SEK)', '現金買入': '-', '現金賣出': '-'},\n",
      " {'幣別': '紐元 (NZD)', '現金買入': '18.36', '現金賣出': '19.21'},\n",
      " {'幣別': '泰幣 (THB)', '現金買入': '0.8474', '現金賣出': '1.0374'},\n",
      " {'幣別': '菲國比索 (PHP)', '現金買入': '0.5', '現金賣出': '0.632'},\n",
      " {'幣別': '印尼幣 (IDR)', '現金買入': '0.00168', '現金賣出': '0.00238'},\n",
      " {'幣別': '歐元 (EUR)', '現金買入': '33.48', '現金賣出': '34.82'},\n",
      " {'幣別': '韓元 (KRW)', '現金買入': '0.0211', '現金賣出': '0.025'},\n",
      " {'幣別': '越南盾 (VND)', '現金買入': '0.00104', '現金賣出': '0.00145'},\n",
      " {'幣別': '馬來幣 (MYR)', '現金買入': '6.387', '現金賣出': '7.912'},\n",
      " {'幣別': '人民幣 (CNY)', '現金買入': '4.421', '現金賣出': '4.583'}]\n"
     ]
    }
   ],
   "source": [
    "from bs4 import BeautifulSoup\n",
    "from pprint import pprint\n",
    "soup = BeautifulSoup(response.text, 'html.parser')\n",
    "\n",
    "# 尋找帶有特定 title 屬性的表格\n",
    "rate_table = soup.find('table', {'title': '牌告匯率'})\n",
    "\n",
    "# 取得所有幣別和現金匯率資料\n",
    "currency_rows = rate_table.tbody.find_all('tr') \n",
    "\n",
    "rates:list[dict] = []\n",
    "\n",
    "for row in currency_rows:\n",
    "    currency_dict = {}\n",
    "    # 取行中的幣別資料\n",
    "    currency = row.find(\"td\", attrs={\"data-table\": \"幣別\"}).find(\"div\", class_=\"visible-phone\").text.strip()\n",
    "    currency_dict[\"幣別\"] = currency\n",
    "\n",
    "    # 取得即期買入匯率\n",
    "    currency_get = row.find(\"td\", attrs={\"data-table\": \"本行現金買入\"}).text.strip()\n",
    "    currency_dict[\"現金買入\"] = currency_get\n",
    "\n",
    "    # 取得即期賣出匯率\n",
    "    currency_send = row.find(\"td\", attrs={\"data-table\": \"本行現金賣出\"}).text.strip()\n",
    "    currency_dict[\"現金賣出\"] = currency_send\n",
    "\n",
    "    #print(f\"幣別: {currency}, 現金買入: {currency_get}, 現金賣出: {currency_send}\")\n",
    "    #print(\"-\" * 60)\n",
    "    rates.append(currency_dict)\n",
    "\n",
    "pprint(rates)\n",
    "    "
   ]
  },
  {
   "cell_type": "code",
   "execution_count": null,
   "metadata": {},
   "outputs": [
    {
     "data": {
      "text/plain": [
       "[{'幣別': '美金 (USD)', '現金買入': '32.345', '現金賣出': '33.015'},\n",
       " {'幣別': '港幣 (HKD)', '現金買入': '4.058', '現金賣出': '4.262'},\n",
       " {'幣別': '英鎊 (GBP)', '現金買入': '40.23', '現金賣出': '42.35'},\n",
       " {'幣別': '澳幣 (AUD)', '現金買入': '20.49', '現金賣出': '21.27'},\n",
       " {'幣別': '加拿大幣 (CAD)', '現金買入': '22.57', '現金賣出': '23.48'},\n",
       " {'幣別': '新加坡幣 (SGD)', '現金買入': '23.92', '現金賣出': '24.83'},\n",
       " {'幣別': '瑞士法郎 (CHF)', '現金買入': '35.66', '現金賣出': '36.86'},\n",
       " {'幣別': '日圓 (JPY)', '現金買入': '0.2101', '現金賣出': '0.2229'},\n",
       " {'幣別': '紐元 (NZD)', '現金買入': '18.36', '現金賣出': '19.21'},\n",
       " {'幣別': '泰幣 (THB)', '現金買入': '0.8474', '現金賣出': '1.0374'},\n",
       " {'幣別': '菲國比索 (PHP)', '現金買入': '0.5', '現金賣出': '0.632'},\n",
       " {'幣別': '印尼幣 (IDR)', '現金買入': '0.00168', '現金賣出': '0.00238'},\n",
       " {'幣別': '歐元 (EUR)', '現金買入': '33.48', '現金賣出': '34.82'},\n",
       " {'幣別': '韓元 (KRW)', '現金買入': '0.0211', '現金賣出': '0.025'},\n",
       " {'幣別': '越南盾 (VND)', '現金買入': '0.00104', '現金賣出': '0.00145'},\n",
       " {'幣別': '馬來幣 (MYR)', '現金買入': '6.387', '現金賣出': '7.912'},\n",
       " {'幣別': '人民幣 (CNY)', '現金買入': '4.421', '現金賣出': '4.583'}]"
      ]
     },
     "execution_count": 29,
     "metadata": {},
     "output_type": "execute_result"
    }
   ],
   "source": [
    "def filter_func(item:dict)->bool:\n",
    "    if item[\"現金買入\"] == \"-\":\n",
    "        return False\n",
    "    else:\n",
    "        return True\n",
    "    \n",
    "filtered_rates = list(filter(filter_func,rates))\n",
    "filtered_rates"
   ]
  },
  {
   "cell_type": "code",
   "execution_count": 32,
   "metadata": {},
   "outputs": [
    {
     "data": {
      "text/plain": [
       "[{'幣別': '美金 (USD)', '現金買入': 32.345, '現金賣出': 33.015},\n",
       " {'幣別': '港幣 (HKD)', '現金買入': 4.058, '現金賣出': 4.262},\n",
       " {'幣別': '英鎊 (GBP)', '現金買入': 40.23, '現金賣出': 42.35},\n",
       " {'幣別': '澳幣 (AUD)', '現金買入': 20.49, '現金賣出': 21.27},\n",
       " {'幣別': '加拿大幣 (CAD)', '現金買入': 22.57, '現金賣出': 23.48},\n",
       " {'幣別': '新加坡幣 (SGD)', '現金買入': 23.92, '現金賣出': 24.83},\n",
       " {'幣別': '瑞士法郎 (CHF)', '現金買入': 35.66, '現金賣出': 36.86},\n",
       " {'幣別': '日圓 (JPY)', '現金買入': 0.2101, '現金賣出': 0.2229},\n",
       " {'幣別': '紐元 (NZD)', '現金買入': 18.36, '現金賣出': 19.21},\n",
       " {'幣別': '泰幣 (THB)', '現金買入': 0.8474, '現金賣出': 1.0374},\n",
       " {'幣別': '菲國比索 (PHP)', '現金買入': 0.5, '現金賣出': 0.632},\n",
       " {'幣別': '印尼幣 (IDR)', '現金買入': 0.00168, '現金賣出': 0.00238},\n",
       " {'幣別': '歐元 (EUR)', '現金買入': 33.48, '現金賣出': 34.82},\n",
       " {'幣別': '韓元 (KRW)', '現金買入': 0.0211, '現金賣出': 0.025},\n",
       " {'幣別': '越南盾 (VND)', '現金買入': 0.00104, '現金賣出': 0.00145},\n",
       " {'幣別': '馬來幣 (MYR)', '現金買入': 6.387, '現金賣出': 7.912},\n",
       " {'幣別': '人民幣 (CNY)', '現金買入': 4.421, '現金賣出': 4.583}]"
      ]
     },
     "execution_count": 32,
     "metadata": {},
     "output_type": "execute_result"
    }
   ],
   "source": [
    "def map_func(item:dict)->dict:\n",
    "    item[\"現金買入\"] = float(item[\"現金買入\"])\n",
    "    item[\"現金賣出\"] = float(item[\"現金賣出\"])\n",
    "    return item\n",
    "\n",
    "cleared_list= list(map(map_func,filtered_rates))\n",
    "cleared_list"
   ]
  },
  {
   "cell_type": "code",
   "execution_count": 38,
   "metadata": {},
   "outputs": [
    {
     "data": {
      "text/html": [
       "<div>\n",
       "<style scoped>\n",
       "    .dataframe tbody tr th:only-of-type {\n",
       "        vertical-align: middle;\n",
       "    }\n",
       "\n",
       "    .dataframe tbody tr th {\n",
       "        vertical-align: top;\n",
       "    }\n",
       "\n",
       "    .dataframe thead th {\n",
       "        text-align: right;\n",
       "    }\n",
       "</style>\n",
       "<table border=\"1\" class=\"dataframe\">\n",
       "  <thead>\n",
       "    <tr style=\"text-align: right;\">\n",
       "      <th></th>\n",
       "      <th>幣別</th>\n",
       "      <th>現金買入</th>\n",
       "      <th>現金賣出</th>\n",
       "    </tr>\n",
       "  </thead>\n",
       "  <tbody>\n",
       "    <tr>\n",
       "      <th>2</th>\n",
       "      <td>英鎊 (GBP)</td>\n",
       "      <td>40.230</td>\n",
       "      <td>42.350</td>\n",
       "    </tr>\n",
       "    <tr>\n",
       "      <th>6</th>\n",
       "      <td>瑞士法郎 (CHF)</td>\n",
       "      <td>35.660</td>\n",
       "      <td>36.860</td>\n",
       "    </tr>\n",
       "    <tr>\n",
       "      <th>12</th>\n",
       "      <td>歐元 (EUR)</td>\n",
       "      <td>33.480</td>\n",
       "      <td>34.820</td>\n",
       "    </tr>\n",
       "    <tr>\n",
       "      <th>0</th>\n",
       "      <td>美金 (USD)</td>\n",
       "      <td>32.345</td>\n",
       "      <td>33.015</td>\n",
       "    </tr>\n",
       "    <tr>\n",
       "      <th>5</th>\n",
       "      <td>新加坡幣 (SGD)</td>\n",
       "      <td>23.920</td>\n",
       "      <td>24.830</td>\n",
       "    </tr>\n",
       "  </tbody>\n",
       "</table>\n",
       "</div>"
      ],
      "text/plain": [
       "            幣別    現金買入    現金賣出\n",
       "2     英鎊 (GBP)  40.230  42.350\n",
       "6   瑞士法郎 (CHF)  35.660  36.860\n",
       "12    歐元 (EUR)  33.480  34.820\n",
       "0     美金 (USD)  32.345  33.015\n",
       "5   新加坡幣 (SGD)  23.920  24.830"
      ]
     },
     "execution_count": 38,
     "metadata": {},
     "output_type": "execute_result"
    }
   ],
   "source": [
    "import pandas as pd\n",
    "df = pd.DataFrame(cleared_list)\n",
    "df = df.sort_values(by=\"現金買入\",ascending=False)\n",
    "df.head()"
   ]
  },
  {
   "cell_type": "code",
   "execution_count": 40,
   "metadata": {},
   "outputs": [
    {
     "data": {
      "text/html": [
       "<div>\n",
       "<style scoped>\n",
       "    .dataframe tbody tr th:only-of-type {\n",
       "        vertical-align: middle;\n",
       "    }\n",
       "\n",
       "    .dataframe tbody tr th {\n",
       "        vertical-align: top;\n",
       "    }\n",
       "\n",
       "    .dataframe thead th {\n",
       "        text-align: right;\n",
       "    }\n",
       "</style>\n",
       "<table border=\"1\" class=\"dataframe\">\n",
       "  <thead>\n",
       "    <tr style=\"text-align: right;\">\n",
       "      <th></th>\n",
       "      <th>幣別</th>\n",
       "      <th>現金買入</th>\n",
       "      <th>現金賣出</th>\n",
       "    </tr>\n",
       "  </thead>\n",
       "  <tbody>\n",
       "    <tr>\n",
       "      <th>10</th>\n",
       "      <td>菲國比索 (PHP)</td>\n",
       "      <td>0.50000</td>\n",
       "      <td>0.63200</td>\n",
       "    </tr>\n",
       "    <tr>\n",
       "      <th>7</th>\n",
       "      <td>日圓 (JPY)</td>\n",
       "      <td>0.21010</td>\n",
       "      <td>0.22290</td>\n",
       "    </tr>\n",
       "    <tr>\n",
       "      <th>13</th>\n",
       "      <td>韓元 (KRW)</td>\n",
       "      <td>0.02110</td>\n",
       "      <td>0.02500</td>\n",
       "    </tr>\n",
       "    <tr>\n",
       "      <th>11</th>\n",
       "      <td>印尼幣 (IDR)</td>\n",
       "      <td>0.00168</td>\n",
       "      <td>0.00238</td>\n",
       "    </tr>\n",
       "    <tr>\n",
       "      <th>14</th>\n",
       "      <td>越南盾 (VND)</td>\n",
       "      <td>0.00104</td>\n",
       "      <td>0.00145</td>\n",
       "    </tr>\n",
       "  </tbody>\n",
       "</table>\n",
       "</div>"
      ],
      "text/plain": [
       "            幣別     現金買入     現金賣出\n",
       "10  菲國比索 (PHP)  0.50000  0.63200\n",
       "7     日圓 (JPY)  0.21010  0.22290\n",
       "13    韓元 (KRW)  0.02110  0.02500\n",
       "11   印尼幣 (IDR)  0.00168  0.00238\n",
       "14   越南盾 (VND)  0.00104  0.00145"
      ]
     },
     "execution_count": 40,
     "metadata": {},
     "output_type": "execute_result"
    }
   ],
   "source": [
    "df.tail()"
   ]
  },
  {
   "cell_type": "code",
   "execution_count": 42,
   "metadata": {},
   "outputs": [
    {
     "data": {
      "text/plain": [
       "2     40.23000\n",
       "6     35.66000\n",
       "12    33.48000\n",
       "0     32.34500\n",
       "5     23.92000\n",
       "4     22.57000\n",
       "3     20.49000\n",
       "8     18.36000\n",
       "15     6.38700\n",
       "16     4.42100\n",
       "1      4.05800\n",
       "9      0.84740\n",
       "10     0.50000\n",
       "7      0.21010\n",
       "13     0.02110\n",
       "11     0.00168\n",
       "14     0.00104\n",
       "Name: 現金買入, dtype: float64"
      ]
     },
     "execution_count": 42,
     "metadata": {},
     "output_type": "execute_result"
    }
   ],
   "source": [
    "#subscript\n",
    "df['現金買入']"
   ]
  },
  {
   "cell_type": "code",
   "execution_count": 43,
   "metadata": {},
   "outputs": [
    {
     "data": {
      "image/png": "[encoded data removed]",
      "text/plain": [
       "<Figure size 640x480 with 1 Axes>"
      ]
     },
     "metadata": {},
     "output_type": "display_data"
    }
   ],
   "source": [
    "import matplotlib.pyplot as plt\n",
    "df['現金買入'].plot(kind='bar')\n",
    "plt.show()"
   ]
  },
  {
   "cell_type": "code",
   "execution_count": 49,
   "metadata": {},
   "outputs": [
    {
     "data": {
      "text/plain": [
       "2     (GBP)\n",
       "6     (CHF)\n",
       "12    (EUR)\n",
       "0     (USD)\n",
       "5     (SGD)\n",
       "4     (CAD)\n",
       "3     (AUD)\n",
       "8     (NZD)\n",
       "15    (MYR)\n",
       "16    (CNY)\n",
       "1     (HKD)\n",
       "9     (THB)\n",
       "10    (PHP)\n",
       "7     (JPY)\n",
       "13    (KRW)\n",
       "11    (IDR)\n",
       "14    (VND)\n",
       "Name: 幣別, dtype: object"
      ]
     },
     "execution_count": 49,
     "metadata": {},
     "output_type": "execute_result"
    }
   ],
   "source": [
    "df['幣別'].apply(lambda x: x.split()[-1])"
   ]
  },
  {
   "cell_type": "code",
   "execution_count": 56,
   "metadata": {},
   "outputs": [
    {
     "data": {
      "image/png": "[encoded data removed]",
      "text/plain": [
       "<Figure size 1000x500 with 1 Axes>"
      ]
     },
     "metadata": {},
     "output_type": "display_data"
    }
   ],
   "source": [
    "import matplotlib.pyplot as plt\n",
    "# 1.製作figure\n",
    "fig = plt.figure(figsize=(10, 5))\n",
    "ax_1 = fig.add_subplot(1, 1, 1)\n",
    "ax_1.bar(df['幣別'].apply(lambda x: x.split()[-1]),df['現金買入'])\n",
    "ax_1.set_title('currency buy rate')\n",
    "ax_1.set_xlabel('currency')\n",
    "ax_1.set_ylabel('rate(NTD)')\n",
    "plt.show()"
   ]
  }
 ],
 "metadata": {
  "kernelspec": {
   "display_name": "base",
   "language": "python",
   "name": "python3"
  },
  "language_info": {
   "codemirror_mode": {
    "name": "ipython",
    "version": 3
   },
   "file_extension": ".py",
   "mimetype": "text/x-python",
   "name": "python",
   "nbconvert_exporter": "python",
   "pygments_lexer": "ipython3",
   "version": "3.12.8"
  }
 },
 "nbformat": 4,
 "nbformat_minor": 2
}
