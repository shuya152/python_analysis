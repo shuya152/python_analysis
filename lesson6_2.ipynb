{
 "cells": [
  {
   "cell_type": "code",
   "execution_count": null,
   "metadata": {},
   "outputs": [],
   "source": [
    "import requests\n",
    "from requests import Response\n",
    "url = 'https://rate.bot.com.tw/xrt?Lang=zh-TW'\n",
    "response = requests.get(url)\n",
    "print(response.text)"
   ]
  },
  {
   "cell_type": "code",
   "execution_count": 11,
   "metadata": {},
   "outputs": [
    {
     "name": "stdout",
     "output_type": "stream",
     "text": [
      "美金 (USD)\n",
      "港幣 (HKD)\n",
      "英鎊 (GBP)\n",
      "澳幣 (AUD)\n",
      "加拿大幣 (CAD)\n",
      "新加坡幣 (SGD)\n",
      "瑞士法郎 (CHF)\n",
      "日圓 (JPY)\n",
      "南非幣 (ZAR)\n",
      "瑞典幣 (SEK)\n",
      "紐元 (NZD)\n",
      "泰幣 (THB)\n",
      "菲國比索 (PHP)\n",
      "印尼幣 (IDR)\n",
      "歐元 (EUR)\n",
      "韓元 (KRW)\n",
      "越南盾 (VND)\n",
      "馬來幣 (MYR)\n",
      "人民幣 (CNY)\n"
     ]
    }
   ],
   "source": [
    "from bs4 import BeautifulSoup\n",
    "soup = BeautifulSoup(response.text, 'html.parser')\n",
    "\n",
    "# 尋找帶有特定 title 屬性的表格\n",
    "rate_table = soup.find('table', {'title': '牌告匯率'})\n",
    "\n",
    "# 印出表格內容\n",
    "#print(rate_table)\n",
    "\n",
    "# 取得所有幣別和現金匯率資料\n",
    "currency_rows = rate_table.tbody.find_all('tr')  # 跳過表頭行\n",
    "#print(currency_rows)\n",
    "\n",
    "for row in currency_rows:\n",
    "    #print(row)\n",
    "    print(row.find(\"td\", attrs={\"data-table\": \"幣別\"}).find(\"div\", class_=\"visible-phone\").text.strip())\n",
    "    # 取得幣別名稱 (移除多餘空白)\n",
    "    # currency = row.find('div', class_='visible-phone').text.strip()\n",
    "    \n",
    "    # # 取得現金買入匯率\n",
    "    # cash_buy = row.find_all('td')[1].text.strip()\n",
    "    # # 取得現金賣出匯率\n",
    "    # cash_sell = row.find_all('td')[2].text.strip()\n",
    "    \n",
    "    # # 轉換匯率值\n",
    "    # cash_buy = round(float(cash_buy), 2) if cash_buy else None\n",
    "    # cash_sell = round(float(cash_sell), 2) if cash_sell else None\n",
    "    \n",
    "    # print(f\"幣別: {currency}\")\n",
    "    # print(f\"現金買入: {cash_buy}\")\n",
    "    # print(f\"現金賣出: {cash_sell}\")\n",
    "    # print(\"-\" * 30)"
   ]
  }
 ],
 "metadata": {
  "kernelspec": {
   "display_name": "base",
   "language": "python",
   "name": "python3"
  },
  "language_info": {
   "codemirror_mode": {
    "name": "ipython",
    "version": 3
   },
   "file_extension": ".py",
   "mimetype": "text/x-python",
   "name": "python",
   "nbconvert_exporter": "python",
   "pygments_lexer": "ipython3",
   "version": "3.12.8"
  }
 },
 "nbformat": 4,
 "nbformat_minor": 2
}
