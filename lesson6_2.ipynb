{
 "cells": [
  {
   "cell_type": "code",
   "execution_count": null,
   "metadata": {},
   "outputs": [],
   "source": [
    "import requests\n",
    "from requests import Response\n",
    "url = 'https://rate.bot.com.tw/xrt?Lang=zh-TW'\n",
    "response = requests.get(url)\n",
    "print(response.text)"
   ]
  },
  {
   "cell_type": "code",
   "execution_count": 16,
   "metadata": {},
   "outputs": [
    {
     "name": "stdout",
     "output_type": "stream",
     "text": [
      "幣別: 美金 (USD), 現金買入: 32.345, 現金賣出: 33.015\n",
      "==========\n",
      "幣別: 港幣 (HKD), 現金買入: 4.058, 現金賣出: 4.262\n",
      "==========\n",
      "幣別: 英鎊 (GBP), 現金買入: 40.23, 現金賣出: 42.35\n",
      "==========\n",
      "幣別: 澳幣 (AUD), 現金買入: 20.49, 現金賣出: 21.27\n",
      "==========\n",
      "幣別: 加拿大幣 (CAD), 現金買入: 22.57, 現金賣出: 23.48\n",
      "==========\n",
      "幣別: 新加坡幣 (SGD), 現金買入: 23.92, 現金賣出: 24.83\n",
      "==========\n",
      "幣別: 瑞士法郎 (CHF), 現金買入: 35.66, 現金賣出: 36.86\n",
      "==========\n",
      "幣別: 日圓 (JPY), 現金買入: 0.2101, 現金賣出: 0.2229\n",
      "==========\n",
      "幣別: 南非幣 (ZAR), 現金買入: -, 現金賣出: -\n",
      "==========\n",
      "幣別: 瑞典幣 (SEK), 現金買入: -, 現金賣出: -\n",
      "==========\n",
      "幣別: 紐元 (NZD), 現金買入: 18.36, 現金賣出: 19.21\n",
      "==========\n",
      "幣別: 泰幣 (THB), 現金買入: 0.8474, 現金賣出: 1.0374\n",
      "==========\n",
      "幣別: 菲國比索 (PHP), 現金買入: 0.5, 現金賣出: 0.632\n",
      "==========\n",
      "幣別: 印尼幣 (IDR), 現金買入: 0.00168, 現金賣出: 0.00238\n",
      "==========\n",
      "幣別: 歐元 (EUR), 現金買入: 33.48, 現金賣出: 34.82\n",
      "==========\n",
      "幣別: 韓元 (KRW), 現金買入: 0.0211, 現金賣出: 0.025\n",
      "==========\n",
      "幣別: 越南盾 (VND), 現金買入: 0.00104, 現金賣出: 0.00145\n",
      "==========\n",
      "幣別: 馬來幣 (MYR), 現金買入: 6.387, 現金賣出: 7.912\n",
      "==========\n",
      "幣別: 人民幣 (CNY), 現金買入: 4.421, 現金賣出: 4.583\n",
      "==========\n"
     ]
    }
   ],
   "source": [
    "from bs4 import BeautifulSoup\n",
    "soup = BeautifulSoup(response.text, 'html.parser')\n",
    "\n",
    "# 尋找帶有特定 title 屬性的表格\n",
    "rate_table = soup.find('table', {'title': '牌告匯率'})\n",
    "\n",
    "# 取得所有幣別和現金匯率資料\n",
    "currency_rows = rate_table.tbody.find_all('tr')  # 跳過表頭行\n",
    "#print(currency_rows)\n",
    "\n",
    "for row in currency_rows:\n",
    "    # 取行中的幣別資料\n",
    "    currency = row.find(\"td\", attrs={\"data-table\": \"幣別\"}).find(\"div\", class_=\"visible-phone\").text.strip()\n",
    "\n",
    "    # 取得即期買入匯率\n",
    "    currency_get = row.find(\"td\", attrs={\"data-table\": \"本行現金買入\"}).text.strip()\n",
    "\n",
    "    # 取得即期賣出匯率\n",
    "    currency_send = row.find(\"td\", attrs={\"data-table\": \"本行現金賣出\"}).text.strip()\n",
    "    print(f\"幣別: {currency}, 現金買入: {currency_get}, 現金賣出: {currency_send}\")\n",
    "    print(\"==========\")\n",
    "    "
   ]
  }
 ],
 "metadata": {
  "kernelspec": {
   "display_name": "base",
   "language": "python",
   "name": "python3"
  },
  "language_info": {
   "codemirror_mode": {
    "name": "ipython",
    "version": 3
   },
   "file_extension": ".py",
   "mimetype": "text/x-python",
   "name": "python",
   "nbconvert_exporter": "python",
   "pygments_lexer": "ipython3",
   "version": "3.12.9"
  }
 },
 "nbformat": 4,
 "nbformat_minor": 2
}
