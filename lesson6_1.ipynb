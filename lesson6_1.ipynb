{
 "cells": [
  {
   "cell_type": "code",
   "execution_count": null,
   "metadata": {},
   "outputs": [],
   "source": [
    "import requests\n",
    "from requests import Response\n",
    "url = 'https://rate.bot.com.tw/xrt?Lang=zh-TW'\n",
    "response = requests.get(url)\n",
    "print(response.text)\n",
    "\n",
    "\n"
   ]
  },
  {
   "cell_type": "code",
   "execution_count": 21,
   "metadata": {},
   "outputs": [
    {
     "name": "stdout",
     "output_type": "stream",
     "text": [
      "<class 'bs4.element.Tag'>\n",
      "{'class': ['a1']}\n",
      "h1\n",
      "Hello, BeautifulSoup!\n",
      "Hello, BeautifulSoup!\n",
      "Hello, BeautifulSoup!\n"
     ]
    }
   ],
   "source": [
    "from bs4 import BeautifulSoup\n",
    "html = '''\n",
    "<html>\n",
    "    <body>\n",
    "        <h1 class=\"a1\">Hello, BeautifulSoup!</h1>\n",
    "    </body>\n",
    "</html>\n",
    "'''\n",
    "\n",
    "soup = BeautifulSoup(html, \"html.parser\")\n",
    "h1_element = soup.h1\n",
    "print(type(h1_element))\n",
    "print(h1_element.attrs)\n",
    "print(h1_element.name)\n",
    "print(h1_element.get_text())\n",
    "print(h1_element.string)\n",
    "print(h1_element.text)"
   ]
  },
  {
   "cell_type": "code",
   "execution_count": 25,
   "metadata": {},
   "outputs": [
    {
     "name": "stdout",
     "output_type": "stream",
     "text": [
      "<class 'bs4.element.Tag'>\n",
      "{'class': ['content']}\n",
      "p\n",
      "This is a paragraph.\n",
      "This is a paragraph.\n",
      "This is a paragraph.\n"
     ]
    }
   ],
   "source": [
    "html = \"<html><body><p class='content'>This is a paragraph.</p></body></html>\"\n",
    "soup = BeautifulSoup(html, \"html.parser\")\n",
    "p_tag = soup.find(\"p\")  # 找到第一個 <p> 標籤\n",
    "print(type(p_tag))\n",
    "print(p_tag.attrs)\n",
    "print(p_tag.name)\n",
    "print(p_tag.get_text())\n",
    "print(p_tag.string)\n",
    "print(p_tag.text)"
   ]
  },
  {
   "cell_type": "code",
   "execution_count": 29,
   "metadata": {},
   "outputs": [
    {
     "name": "stdout",
     "output_type": "stream",
     "text": [
      "Paragraph 1\n",
      "Paragraph 2\n"
     ]
    }
   ],
   "source": [
    "html = \"\"\"\n",
    "<html>\n",
    "    <body>\n",
    "        <p class='content'>Paragraph 1</p>\n",
    "        <p class='content'>Paragraph 2</p>\n",
    "    </body>\n",
    "</html>\n",
    "\"\"\"\n",
    "soup = BeautifulSoup(html, \"html.parser\")\n",
    "p_elements = soup.find_all(\"p\", class_=\"content\")  # 找到所有 class 為 content 的 <p> 標籤\n",
    "for elem in p_elements:\n",
    "    print(elem.string)"
   ]
  }
 ],
 "metadata": {
  "kernelspec": {
   "display_name": "base",
   "language": "python",
   "name": "python3"
  },
  "language_info": {
   "codemirror_mode": {
    "name": "ipython",
    "version": 3
   },
   "file_extension": ".py",
   "mimetype": "text/x-python",
   "name": "python",
   "nbconvert_exporter": "python",
   "pygments_lexer": "ipython3",
   "version": "3.12.8"
  }
 },
 "nbformat": 4,
 "nbformat_minor": 2
}
