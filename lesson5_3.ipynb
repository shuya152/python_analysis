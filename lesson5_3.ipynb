{
 "cells": [
  {
   "cell_type": "code",
   "execution_count": 29,
   "metadata": {},
   "outputs": [
    {
     "data": {
      "text/plain": [
       "array([[67, 94, 65],\n",
       "       [78, 92, 68],\n",
       "       [59, 92, 87]])"
      ]
     },
     "execution_count": 29,
     "metadata": {},
     "output_type": "execute_result"
    }
   ],
   "source": [
    "import numpy as np\n",
    "students = np.array([\n",
    "    [67, 94, 65],\n",
    "    [78, 92, 68],\n",
    "    [59, 92, 87]\n",
    "    ])\n",
    "students"
   ]
  },
  {
   "cell_type": "code",
   "execution_count": 30,
   "metadata": {},
   "outputs": [
    {
     "data": {
      "text/html": [
       "<div>\n",
       "<style scoped>\n",
       "    .dataframe tbody tr th:only-of-type {\n",
       "        vertical-align: middle;\n",
       "    }\n",
       "\n",
       "    .dataframe tbody tr th {\n",
       "        vertical-align: top;\n",
       "    }\n",
       "\n",
       "    .dataframe thead th {\n",
       "        text-align: right;\n",
       "    }\n",
       "</style>\n",
       "<table border=\"1\" class=\"dataframe\">\n",
       "  <thead>\n",
       "    <tr style=\"text-align: right;\">\n",
       "      <th></th>\n",
       "      <th>國文</th>\n",
       "      <th>英文</th>\n",
       "      <th>數學</th>\n",
       "    </tr>\n",
       "  </thead>\n",
       "  <tbody>\n",
       "    <tr>\n",
       "      <th>stu1</th>\n",
       "      <td>67</td>\n",
       "      <td>94</td>\n",
       "      <td>65</td>\n",
       "    </tr>\n",
       "    <tr>\n",
       "      <th>stu2</th>\n",
       "      <td>78</td>\n",
       "      <td>92</td>\n",
       "      <td>68</td>\n",
       "    </tr>\n",
       "    <tr>\n",
       "      <th>stu3</th>\n",
       "      <td>59</td>\n",
       "      <td>92</td>\n",
       "      <td>87</td>\n",
       "    </tr>\n",
       "  </tbody>\n",
       "</table>\n",
       "</div>"
      ],
      "text/plain": [
       "      國文  英文  數學\n",
       "stu1  67  94  65\n",
       "stu2  78  92  68\n",
       "stu3  59  92  87"
      ]
     },
     "execution_count": 30,
     "metadata": {},
     "output_type": "execute_result"
    }
   ],
   "source": [
    "import pandas as pd\n",
    "\n",
    "pd.DataFrame(data=students,\n",
    "             index=['stu1','stu2','stu3'],\n",
    "             columns=['國文','英文','數學']\n",
    "             )"
   ]
  },
  {
   "cell_type": "code",
   "execution_count": 31,
   "metadata": {},
   "outputs": [
    {
     "data": {
      "text/plain": [
       "['林希啟', '羅幸娥', '高智超', '楊韋廷', '吳振瑋']"
      ]
     },
     "execution_count": 31,
     "metadata": {},
     "output_type": "execute_result"
    }
   ],
   "source": [
    "import random\n",
    "def get_names(nums:int=10)->list[str]:\n",
    "    with open('names.txt',encoding='utf-8') as file:\n",
    "        content = file.read()\n",
    "        names = content.split(\"\\n\")\n",
    "        randam_names = random.sample(names,nums)\n",
    "        \n",
    "    return randam_names\n",
    "\n",
    "get_names(5)"
   ]
  },
  {
   "cell_type": "code",
   "execution_count": 36,
   "metadata": {},
   "outputs": [],
   "source": [
    "student_nums = 50\n",
    "data = np.random.randint(50,high=101,size=(student_nums, 5))\n",
    "students = pd.DataFrame(data,\n",
    "             columns=['國文','英文','數學','地理','探討'],\n",
    "             index=get_names(student_nums))\n"
   ]
  },
  {
   "cell_type": "code",
   "execution_count": 38,
   "metadata": {},
   "outputs": [
    {
     "name": "stdout",
     "output_type": "stream",
     "text": [
      "csv存檔成功\n"
     ]
    }
   ],
   "source": [
    "students.to_csv('student.csv')\n",
    "print(\"csv存檔成功\")"
   ]
  },
  {
   "cell_type": "code",
   "execution_count": 40,
   "metadata": {},
   "outputs": [],
   "source": [
    "students.to_excel('student.xlsx',sheet_name='3年8班期中考分數')"
   ]
  }
 ],
 "metadata": {
  "kernelspec": {
   "display_name": "base",
   "language": "python",
   "name": "python3"
  },
  "language_info": {
   "codemirror_mode": {
    "name": "ipython",
    "version": 3
   },
   "file_extension": ".py",
   "mimetype": "text/x-python",
   "name": "python",
   "nbconvert_exporter": "python",
   "pygments_lexer": "ipython3",
   "version": "3.12.8"
  }
 },
 "nbformat": 4,
 "nbformat_minor": 2
}
