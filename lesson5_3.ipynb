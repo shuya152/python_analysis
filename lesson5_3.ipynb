{
 "cells": [
  {
   "cell_type": "code",
   "execution_count": 1,
   "metadata": {},
   "outputs": [
    {
     "data": {
      "text/plain": [
       "array([[67, 94, 65],\n",
       "       [78, 92, 68],\n",
       "       [59, 92, 87]])"
      ]
     },
     "execution_count": 1,
     "metadata": {},
     "output_type": "execute_result"
    }
   ],
   "source": [
    "import numpy as np\n",
    "students = np.array([\n",
    "    [67, 94, 65],\n",
    "    [78, 92, 68],\n",
    "    [59, 92, 87]\n",
    "    ])\n",
    "students"
   ]
  },
  {
   "cell_type": "code",
   "execution_count": 2,
   "metadata": {},
   "outputs": [
    {
     "data": {
      "text/html": [
       "<div>\n",
       "<style scoped>\n",
       "    .dataframe tbody tr th:only-of-type {\n",
       "        vertical-align: middle;\n",
       "    }\n",
       "\n",
       "    .dataframe tbody tr th {\n",
       "        vertical-align: top;\n",
       "    }\n",
       "\n",
       "    .dataframe thead th {\n",
       "        text-align: right;\n",
       "    }\n",
       "</style>\n",
       "<table border=\"1\" class=\"dataframe\">\n",
       "  <thead>\n",
       "    <tr style=\"text-align: right;\">\n",
       "      <th></th>\n",
       "      <th>國文</th>\n",
       "      <th>英文</th>\n",
       "      <th>數學</th>\n",
       "    </tr>\n",
       "  </thead>\n",
       "  <tbody>\n",
       "    <tr>\n",
       "      <th>stu1</th>\n",
       "      <td>67</td>\n",
       "      <td>94</td>\n",
       "      <td>65</td>\n",
       "    </tr>\n",
       "    <tr>\n",
       "      <th>stu2</th>\n",
       "      <td>78</td>\n",
       "      <td>92</td>\n",
       "      <td>68</td>\n",
       "    </tr>\n",
       "    <tr>\n",
       "      <th>stu3</th>\n",
       "      <td>59</td>\n",
       "      <td>92</td>\n",
       "      <td>87</td>\n",
       "    </tr>\n",
       "  </tbody>\n",
       "</table>\n",
       "</div>"
      ],
      "text/plain": [
       "      國文  英文  數學\n",
       "stu1  67  94  65\n",
       "stu2  78  92  68\n",
       "stu3  59  92  87"
      ]
     },
     "execution_count": 2,
     "metadata": {},
     "output_type": "execute_result"
    }
   ],
   "source": [
    "import pandas as pd\n",
    "\n",
    "pd.DataFrame(data=students,\n",
    "             index=['stu1','stu2','stu3'],\n",
    "             columns=['國文','英文','數學']\n",
    "             )"
   ]
  },
  {
   "cell_type": "code",
   "execution_count": 24,
   "metadata": {},
   "outputs": [
    {
     "data": {
      "text/plain": [
       "['蔡孟泉', '林玉佩', '賴苑禾', '郭舜昇', '李政成']"
      ]
     },
     "execution_count": 24,
     "metadata": {},
     "output_type": "execute_result"
    }
   ],
   "source": [
    "import random\n",
    "def get_names(nums:int=10)->list[str]:\n",
    "    with open('names.txt',encoding='utf-8') as file:\n",
    "        content = file.read()\n",
    "        names = content.split(\"\\n\")\n",
    "        randam_names = random.sample(names,nums)\n",
    "        \n",
    "    return randam_names\n",
    "\n",
    "get_names(5)"
   ]
  },
  {
   "cell_type": "code",
   "execution_count": 27,
   "metadata": {},
   "outputs": [
    {
     "data": {
      "text/html": [
       "<div>\n",
       "<style scoped>\n",
       "    .dataframe tbody tr th:only-of-type {\n",
       "        vertical-align: middle;\n",
       "    }\n",
       "\n",
       "    .dataframe tbody tr th {\n",
       "        vertical-align: top;\n",
       "    }\n",
       "\n",
       "    .dataframe thead th {\n",
       "        text-align: right;\n",
       "    }\n",
       "</style>\n",
       "<table border=\"1\" class=\"dataframe\">\n",
       "  <thead>\n",
       "    <tr style=\"text-align: right;\">\n",
       "      <th></th>\n",
       "      <th>國文</th>\n",
       "      <th>英文</th>\n",
       "      <th>數學</th>\n",
       "      <th>地理</th>\n",
       "      <th>探討</th>\n",
       "    </tr>\n",
       "  </thead>\n",
       "  <tbody>\n",
       "    <tr>\n",
       "      <th>周琬婷</th>\n",
       "      <td>65</td>\n",
       "      <td>84</td>\n",
       "      <td>84</td>\n",
       "      <td>89</td>\n",
       "      <td>99</td>\n",
       "    </tr>\n",
       "    <tr>\n",
       "      <th>黃雅慧</th>\n",
       "      <td>72</td>\n",
       "      <td>58</td>\n",
       "      <td>59</td>\n",
       "      <td>79</td>\n",
       "      <td>62</td>\n",
       "    </tr>\n",
       "    <tr>\n",
       "      <th>游一鈺</th>\n",
       "      <td>63</td>\n",
       "      <td>100</td>\n",
       "      <td>98</td>\n",
       "      <td>61</td>\n",
       "      <td>84</td>\n",
       "    </tr>\n",
       "    <tr>\n",
       "      <th>謝貞妃</th>\n",
       "      <td>86</td>\n",
       "      <td>72</td>\n",
       "      <td>89</td>\n",
       "      <td>86</td>\n",
       "      <td>54</td>\n",
       "    </tr>\n",
       "    <tr>\n",
       "      <th>陳信宏</th>\n",
       "      <td>59</td>\n",
       "      <td>66</td>\n",
       "      <td>98</td>\n",
       "      <td>74</td>\n",
       "      <td>53</td>\n",
       "    </tr>\n",
       "  </tbody>\n",
       "</table>\n",
       "</div>"
      ],
      "text/plain": [
       "     國文   英文  數學  地理  探討\n",
       "周琬婷  65   84  84  89  99\n",
       "黃雅慧  72   58  59  79  62\n",
       "游一鈺  63  100  98  61  84\n",
       "謝貞妃  86   72  89  86  54\n",
       "陳信宏  59   66  98  74  53"
      ]
     },
     "execution_count": 27,
     "metadata": {},
     "output_type": "execute_result"
    }
   ],
   "source": [
    "student_nums = 5\n",
    "data = np.random.randint(50,high=101,size=(student_nums, 5))\n",
    "students = pd.DataFrame(data,\n",
    "             columns=['國文','英文','數學','地理','探討'],\n",
    "             index=get_names(student_nums))\n",
    "students"
   ]
  },
  {
   "cell_type": "code",
   "execution_count": 5,
   "metadata": {},
   "outputs": [
    {
     "data": {
      "text/plain": [
       "['李彥伸', '羅佩樺', '楊韋廷', '黃江旭', '盧必妍']"
      ]
     },
     "execution_count": 5,
     "metadata": {},
     "output_type": "execute_result"
    }
   ],
   "source": [
    "import random\n",
    "def get_names(nums:int=10)->list[str]:\n",
    "    with open('names.txt',encoding='utf-8') as file:\n",
    "        content = file.read()\n",
    "        names = content.split(\"\\n\")\n",
    "        randam_names = random.sample(names,nums)\n",
    "        \n",
    "    return randam_names\n",
    "\n",
    "get_names(5)"
   ]
  },
  {
   "cell_type": "code",
   "execution_count": 6,
   "metadata": {},
   "outputs": [],
   "source": [
    "student_nums = 50\n",
    "data = np.random.randint(50,high=101,size=(student_nums, 5))\n",
    "students = pd.DataFrame(data,\n",
    "             columns=['國文','英文','數學','地理','探討'],\n",
    "             index=get_names(student_nums))"
   ]
  },
  {
   "cell_type": "code",
   "execution_count": 7,
   "metadata": {},
   "outputs": [
    {
     "name": "stdout",
     "output_type": "stream",
     "text": [
      "csv存檔成功\n"
     ]
    }
   ],
   "source": [
    "students.to_csv('student.csv')\n",
    "print(\"csv存檔成功\")"
   ]
  }
 ],
 "metadata": {
  "kernelspec": {
   "display_name": "base",
   "language": "python",
   "name": "python3"
  },
  "language_info": {
   "codemirror_mode": {
    "name": "ipython",
    "version": 3
   },
   "file_extension": ".py",
   "mimetype": "text/x-python",
   "name": "python",
   "nbconvert_exporter": "python",
   "pygments_lexer": "ipython3",
   "version": "3.12.8"
  }
 },
 "nbformat": 4,
 "nbformat_minor": 2
}
