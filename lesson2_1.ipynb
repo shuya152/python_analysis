{
 "cells": [
  {
   "cell_type": "code",
   "execution_count": 1,
   "metadata": {},
   "outputs": [
    {
     "name": "stdout",
     "output_type": "stream",
     "text": [
      "10\n",
      "20\n"
     ]
    }
   ],
   "source": [
    "print(2*(1+2)**2-2**2*2)\n",
    "print((2+3)*4)"
   ]
  },
  {
   "cell_type": "code",
   "execution_count": 13,
   "metadata": {},
   "outputs": [
    {
     "name": "stdout",
     "output_type": "stream",
     "text": [
      "17\n"
     ]
    }
   ],
   "source": [
    "n=1+5\n",
    "m=n+5\n",
    "print(n+m)"
   ]
  },
  {
   "cell_type": "code",
   "execution_count": null,
   "metadata": {},
   "outputs": [
    {
     "name": "stdout",
     "output_type": "stream",
     "text": [
      "<class 'str'>\n"
     ]
    },
    {
     "data": {
      "text/plain": [
       "55.0"
      ]
     },
     "execution_count": 17,
     "metadata": {},
     "output_type": "execute_result"
    }
   ],
   "source": [
    "x=input('請輸入x的值:')\n",
    "print(type(x))\n",
    "result=float(x)+10"
   ]
  },
  {
   "cell_type": "code",
   "execution_count": 20,
   "metadata": {},
   "outputs": [
    {
     "name": "stdout",
     "output_type": "stream",
     "text": [
      "1.0-2-3-4-5.\n"
     ]
    }
   ],
   "source": [
    "radius=float(input('請輸入半徑:'))\n",
    "# print(radius,2,3,4,5)\n",
    "# print(radius,2,3,4,5,sep='-')\n",
    "# print(radius,2,3,4,5,sep='-',end='.\\n')\n",
    "print(radius,2,3,4,5,end='.\\n',sep='-')"
   ]
  },
  {
   "cell_type": "code",
   "execution_count": 22,
   "metadata": {},
   "outputs": [
    {
     "name": "stdout",
     "output_type": "stream",
     "text": [
      "3+5+8\n",
      "4+5+9\n",
      "\n",
      "9+9=18\n",
      "18\n"
     ]
    }
   ],
   "source": [
    "print(\"3+5+8\")\n",
    "print(\"4+5+9\")\n",
    "print()\n",
    "print(\"9+9=18\")\n",
    "print((9+9))"
   ]
  },
  {
   "cell_type": "code",
   "execution_count": 32,
   "metadata": {},
   "outputs": [
    {
     "name": "stdout",
     "output_type": "stream",
     "text": [
      "半徑:45.0/直徑:90.0/圓周:282.743339265/面積:6361.7251334625\n"
     ]
    }
   ],
   "source": [
    "radius=float(input('請輸入半徑:'))\n",
    "diameter=2*radius\n",
    "circumference=2*3.1415926585*radius\n",
    "area=3.1415926585*radius**2\n",
    "sep=\":\"\n",
    "end=\"/\"\n",
    "print(\"半徑\",radius,sep=sep,end=end)\n",
    "print(\"直徑\",diameter,sep=sep,end=end)\n",
    "print(\"圓周\",circumference,sep=sep,end=end)\n",
    "print(\"面積\",area,sep=sep)"
   ]
  },
  {
   "cell_type": "code",
   "execution_count": 42,
   "metadata": {},
   "outputs": [
    {
     "name": "stdout",
     "output_type": "stream",
     "text": [
      "對邊： 5.0\n",
      "鄰邊： 6.0\n",
      "斜邊： 7.810249675906654\n"
     ]
    }
   ],
   "source": [
    "import math\n",
    "side=float(input(\"請輸入對邊\"))\n",
    "another_side=float(input(\"請輸入鄰邊\"))\n",
    "each_side=math.sqrt(side**2+another_side**2)\n",
    "print(\"對邊：\",side)\n",
    "print(\"鄰邊：\",another_side)\n",
    "print(\"斜邊：\",each_side)"
   ]
  },
  {
   "cell_type": "code",
   "execution_count": 47,
   "metadata": {},
   "outputs": [
    {
     "name": "stdout",
     "output_type": "stream",
     "text": [
      "數據集: [2 4 4 4 5 5 7 9]\n",
      "標準差: 2.0\n",
      "樣本標準差 2.138089935299395\n"
     ]
    }
   ],
   "source": [
    "import numpy as np\n",
    "data=np.array([2,4,4,4,5,5,7,9])\n",
    "std_dev=np.std(data)\n",
    "print(\"數據集:\",data)\n",
    "print(\"標準差:\",std_dev)\n",
    "sample_std=np.std(data,ddof=1)\n",
    "print(\"樣本標準差\",sample_std)"
   ]
  }
 ],
 "metadata": {
  "kernelspec": {
   "display_name": "base",
   "language": "python",
   "name": "python3"
  },
  "language_info": {
   "codemirror_mode": {
    "name": "ipython",
    "version": 3
   },
   "file_extension": ".py",
   "mimetype": "text/x-python",
   "name": "python",
   "nbconvert_exporter": "python",
   "pygments_lexer": "ipython3",
   "version": "3.12.9"
  }
 },
 "nbformat": 4,
 "nbformat_minor": 2
}
