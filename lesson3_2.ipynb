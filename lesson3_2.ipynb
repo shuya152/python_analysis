{
 "cells": [
  {
   "cell_type": "code",
   "execution_count": 15,
   "metadata": {},
   "outputs": [],
   "source": [
    "#一行敘述，分行不用對齊\n",
    "dict1={'name':'王聰明',\n",
    "  'age':18,\n",
    "  'city':'Taipei'}"
   ]
  },
  {
   "cell_type": "code",
   "execution_count": 16,
   "metadata": {},
   "outputs": [
    {
     "name": "stdout",
     "output_type": "stream",
     "text": [
      "王聰明\n",
      "18\n"
     ]
    }
   ],
   "source": [
    "#呼叫\n",
    "print(dict1['name'])\n",
    "print(dict1.get('age'))"
   ]
  },
  {
   "cell_type": "code",
   "execution_count": 17,
   "metadata": {},
   "outputs": [
    {
     "data": {
      "text/plain": [
       "18"
      ]
     },
     "execution_count": 17,
     "metadata": {},
     "output_type": "execute_result"
    }
   ],
   "source": [
    "#刪除\n",
    "del dict1['city']\n",
    "dict1.pop('age')"
   ]
  },
  {
   "cell_type": "code",
   "execution_count": 18,
   "metadata": {},
   "outputs": [
    {
     "data": {
      "text/plain": [
       "{'name': '王聰明'}"
      ]
     },
     "execution_count": 18,
     "metadata": {},
     "output_type": "execute_result"
    }
   ],
   "source": [
    "dict1"
   ]
  },
  {
   "cell_type": "code",
   "execution_count": 19,
   "metadata": {},
   "outputs": [
    {
     "ename": "NameError",
     "evalue": "name 'dict1' is not defined",
     "output_type": "error",
     "traceback": [
      "\u001b[1;31m---------------------------------------------------------------------------\u001b[0m",
      "\u001b[1;31mNameError\u001b[0m                                 Traceback (most recent call last)",
      "Cell \u001b[1;32mIn[19], line 2\u001b[0m\n\u001b[0;32m      1\u001b[0m \u001b[38;5;28;01mdel\u001b[39;00m dict1\n\u001b[1;32m----> 2\u001b[0m \u001b[43mdict1\u001b[49m\n",
      "\u001b[1;31mNameError\u001b[0m: name 'dict1' is not defined"
     ]
    }
   ],
   "source": [
    "del dict1\n",
    "dict1"
   ]
  },
  {
   "cell_type": "markdown",
   "metadata": {},
   "source": [
    "- 如何依順序取出`串列資料`和`映射資料`的元素值\n",
    "- for in迴圈"
   ]
  },
  {
   "cell_type": "code",
   "execution_count": 20,
   "metadata": {},
   "outputs": [
    {
     "name": "stdout",
     "output_type": "stream",
     "text": [
      "apple\n",
      "banana\n",
      "orange\n"
     ]
    }
   ],
   "source": [
    "#for + 自訂變數 + in + 清單 + :\n",
    "fruits=[\"apple\",\"banana\",\"orange\"]\n",
    "for fruit in fruits:\n",
    "    print(fruit)"
   ]
  },
  {
   "cell_type": "code",
   "execution_count": 21,
   "metadata": {},
   "outputs": [
    {
     "name": "stdout",
     "output_type": "stream",
     "text": [
      "(0, 'apple')\n",
      "(1, 'banana')\n",
      "(2, 'orange')\n"
     ]
    }
   ],
   "source": [
    "for fruit in enumerate(fruits):\n",
    "    print(fruit)"
   ]
  },
  {
   "cell_type": "code",
   "execution_count": 25,
   "metadata": {},
   "outputs": [
    {
     "name": "stdout",
     "output_type": "stream",
     "text": [
      "0-apple\n",
      "-----\n",
      "1-banana\n",
      "-----\n",
      "2-orange\n",
      "-----\n"
     ]
    }
   ],
   "source": [
    "for index,fruit in enumerate(fruits):\n",
    "    print(index,fruit,sep='-')\n",
    "    print(\"-----\")"
   ]
  },
  {
   "cell_type": "markdown",
   "metadata": {},
   "source": [
    "`copilot:`\n",
    "- 建立10個台灣城市的dictionary範例於下\n",
    "- 使用for in迴圈取出key和value值"
   ]
  },
  {
   "cell_type": "code",
   "execution_count": 1,
   "metadata": {},
   "outputs": [
    {
     "name": "stdout",
     "output_type": "stream",
     "text": [
      "{1: 'Taipei', 2: 'New Taipei', 3: 'Taoyuan', 4: 'Taichung', 5: 'Tainan', 6: 'Kaohsiung', 7: 'Keelung', 8: 'Hsinchu', 9: 'Chiayi', 10: 'Hualien'}\n"
     ]
    }
   ],
   "source": [
    "taiwan_cities = {\n",
    "    1: 'Taipei',\n",
    "    2: 'New Taipei',\n",
    "    3: 'Taoyuan',\n",
    "    4: 'Taichung',\n",
    "    5: 'Tainan',\n",
    "    6: 'Kaohsiung',\n",
    "    7: 'Keelung',\n",
    "    8: 'Hsinchu',\n",
    "    9: 'Chiayi',\n",
    "    10: 'Hualien'\n",
    "}\n",
    "print(taiwan_cities)"
   ]
  },
  {
   "cell_type": "code",
   "execution_count": 2,
   "metadata": {},
   "outputs": [
    {
     "name": "stdout",
     "output_type": "stream",
     "text": [
      "Key: 1, Value: Taipei\n",
      "Key: 2, Value: New Taipei\n",
      "Key: 3, Value: Taoyuan\n",
      "Key: 4, Value: Taichung\n",
      "Key: 5, Value: Tainan\n",
      "Key: 6, Value: Kaohsiung\n",
      "Key: 7, Value: Keelung\n",
      "Key: 8, Value: Hsinchu\n",
      "Key: 9, Value: Chiayi\n",
      "Key: 10, Value: Hualien\n"
     ]
    }
   ],
   "source": [
    "for key, value in taiwan_cities.items():\n",
    "    print(f\"Key: {key}, Value: {value}\")"
   ]
  }
 ],
 "metadata": {
  "kernelspec": {
   "display_name": "base",
   "language": "python",
   "name": "python3"
  },
  "language_info": {
   "codemirror_mode": {
    "name": "ipython",
    "version": 3
   },
   "file_extension": ".py",
   "mimetype": "text/x-python",
   "name": "python",
   "nbconvert_exporter": "python",
   "pygments_lexer": "ipython3",
   "version": "3.12.3"
  }
 },
 "nbformat": 4,
 "nbformat_minor": 2
}
